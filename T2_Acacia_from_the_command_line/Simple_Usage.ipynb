{
 "cells": [
  {
   "cell_type": "markdown",
   "id": "d71d2c0d-eed9-4579-8526-d39e61287caf",
   "metadata": {},
   "source": [
    "# Getting started with Acacia"
   ]
  },
  {
   "cell_type": "markdown",
   "id": "551ec47d-789e-4225-8965-c60bdfb4d068",
   "metadata": {},
   "source": [
    "Rclone is the preferred supported client for Acacia.For power usage of Acacia you may want to look at the [AWS command line interface](https://docs.aws.amazon.com/cli/latest/reference/s3/) or the [AWS boto3 library](https://aws.amazon.com/sdk-for-python/) to use Acacia from Python.\n",
    "\n",
    "In this tutorial we are going to explore:\n",
    "\n",
    "* Getting help\n",
    "* Working with buckets\n",
    "    * Creating, listing, and removing buckets\n",
    "* Working with files and metadata\n",
    "    * Copying simple files\n",
    "    * Copying mutiple files\n",
    "    * Adding and extracting metadata\n",
    "    * Constructing URL's for download and upload\n",
    "    * Removing objects\n",
    "    * Synchronising directories to Acacia\n",
    "\n",
    "## Getting help for MinIO and Rclone"
   ]
  },
  {
   "cell_type": "markdown",
   "id": "f8acea0b-edfa-443d-b206-99803fb9aacc",
   "metadata": {},
   "source": [
    "The complete guide to Rclone commands is [here](https://rclone.org/commands/). To get help from the Rclone client use this command:"
   ]
  },
  {
   "cell_type": "markdown",
   "id": "dc80802d-0c7c-4a6d-9a19-703928630287",
   "metadata": {},
   "source": [
    "```bash\n",
    "rclone --help\n",
    "```\n",
    "```bash\n",
    "rclone command --help\n",
    "```"
   ]
  },
  {
   "cell_type": "markdown",
   "id": "46bf4cc7-2854-4985-b0cc-96f5498934a9",
   "metadata": {},
   "source": [
    "**Exercise: Lookup help on the \"mkdir\" command with rclone**"
   ]
  },
  {
   "cell_type": "code",
   "execution_count": null,
   "id": "ceeb2b2d-9673-4681-be1f-2b4572efa397",
   "metadata": {},
   "outputs": [],
   "source": []
  },
  {
   "cell_type": "markdown",
   "id": "45792dd1-0213-4738-a388-b3f3473e585b",
   "metadata": {},
   "source": [
    "## Buckets as storage containers\n",
    "\n",
    "Buckets are basic containers for grouping objects. There is no concept of a sub-bucket, so the similarity to a folder ends there! \n",
    "\n",
    "### Important information\n",
    "\n",
    "On Acacia: \n",
    "\n",
    "* A user or project may each have up to 1000 buckets.\n",
    "* Up to a million objects may be in a bucket (less than 100,000 preferred).\n",
    "* A user has 100GB of personal storage\n",
    "* Projects are given 1TB of storage by default\n",
    "\n",
    "The bucket name:\n",
    "\n",
    "* **Must** be unique across the system!\n",
    "* Bucket names can potentially be made public using links. Therefore bucket names **must** not contain any confidential information\n",
    "    * Usernames can be a target for an attack\n",
    "    * Email addresses can be exploited\n",
    "    * Passwords and secret keys obviously not ok!\n",
    "    * Initials are ok if they aren't a Pawsey username\n",
    "* **Must** be 3-63 characters long\n",
    "* **Must** begin and end with a lowercase letter or a digit\n",
    "* **Must** be lowercase\n",
    "* **May** contain lowercase letters, numbers, hyphens (-) and periods (.)\n",
    "* **Must** not be formatted as an IP address (e.g 192.168.0.5), that would be problematic for uniqueness!\n",
    "\n",
    "One way to create a unique bucket name is to incorporate something related to your work, i.e the project name. For example this is a valid bucket name.\n",
    "\n",
    "```bash\n",
    "courses01-acacia-workshop-2024\n",
    "```\n",
    "\n",
    "### Creating buckets\n",
    "\n",
    "Here is the `rclone` command to create a bucket. Replace **\\$BucketName** with the name you chose for the bucket.\n",
    "\n",
    "```bash\n",
    "rclone mkdir acacia-mine:$BucketName\n",
    "```\n",
    "\n",
    "> If you forget to use the colon (:) with rclone and use a forward slash (/) instead, then it starts working with your local filesystem!\n",
    "\n",
    "Once a bucket is created it may not be renamed. The fallback is to then to make a new bucket and transfer objects between them."
   ]
  },
  {
   "cell_type": "markdown",
   "id": "1edf390a-5750-4c4c-9832-0c7105ba54b1",
   "metadata": {},
   "source": [
    "**Exercise: Come up with a unique bucket name and make your own bucket on Acacia.**\n",
    "\n",
    "There might even be a clash as your colleagues might make the same bucket name!"
   ]
  },
  {
   "cell_type": "code",
   "execution_count": null,
   "id": "6c33a7e0-904f-41e3-8f3f-66db74fdc11c",
   "metadata": {},
   "outputs": [],
   "source": []
  },
  {
   "cell_type": "markdown",
   "id": "fc51aa81-8ce6-4fb2-b66e-3d6347517d06",
   "metadata": {},
   "source": [
    "There will be quite a bit of copy-paste in the next few sections. You can set an environment variable for your chosen bucket name.\n",
    "\n",
    "In a Windows Powershell\n",
    "\n",
    "```powershell\n",
    "Set-Variable -Name \"BucketName\" -Value \"<insert bucket name here>\"\n",
    "```\n",
    "\n",
    "In Bash shells such as on Pawsey\n",
    "\n",
    "```bash\n",
    "BucketName=\"<insert bucket name here>\"\n",
    "```\n"
   ]
  },
  {
   "cell_type": "markdown",
   "id": "d2216f76-d859-4264-92cb-3acd62cee64e",
   "metadata": {},
   "source": [
    "### Listing available buckets and objects\n",
    "\n",
    "The **ls** command in Rclone lists available buckets and objects:"
   ]
  },
  {
   "cell_type": "markdown",
   "id": "9af78bba-af67-447e-99a6-37c1e5cb89c1",
   "metadata": {},
   "source": [
    "* **ls** lists objects only, **lsl** gives more information\n",
    "* **lsd** lists buckets and pseudofolders\n",
    "* **lsf** lists objects and buckets in easy to parse format. Must be used with a bucket name. \n",
    "* **lsjson** lists objects and buckets in JSON format\n",
    "\n",
    "```bash\n",
    "rclone lsd acacia-mine:\n",
    "```\n",
    "\n",
    "```bash\n",
    "rclone lsf acacia-mine:\n",
    "```"
   ]
  },
  {
   "cell_type": "markdown",
   "id": "f4494915-8886-4f2a-812e-701b94476fee",
   "metadata": {},
   "source": [
    "### Removing buckets\n",
    "\n",
    "You can remove buckets with this command.\n",
    "\n",
    "```bash\n",
    "rclone rmdir acacia-mine:$BucketName\n",
    "```\n"
   ]
  },
  {
   "cell_type": "markdown",
   "id": "ef1ed878-6c4b-4572-873b-91491ee9dc64",
   "metadata": {},
   "source": [
    "If the bucket contains objects and you want to delete everything in it then you can force a remove with this command."
   ]
  },
  {
   "cell_type": "markdown",
   "id": "bc7d7a7f-b8ec-4f22-85d0-5bd0ed0fa84d",
   "metadata": {},
   "source": [
    "```bash\n",
    "rclone purge acacia-mine:$BucketName\n",
    "```"
   ]
  },
  {
   "cell_type": "markdown",
   "id": "6c009adf-3435-40c7-985d-89d5e2dcf947",
   "metadata": {},
   "source": [
    "As this command is dangerous, `rclone` supports the **--dry-run** option to perform a non-destructive test run. The Rclone help messages say that all flags come after the destination.\n",
    "\n",
    "```bash\n",
    "rclone purge acacia-mine:$BucketName --dry-run\n",
    "```"
   ]
  },
  {
   "cell_type": "markdown",
   "id": "c81945de-ff1f-4394-8147-5535048af693",
   "metadata": {},
   "source": [
    "**Exercise: Using one of the commands above, remove your bucket and make a new one.**\n"
   ]
  },
  {
   "cell_type": "code",
   "execution_count": null,
   "id": "0f6dacd1-fec6-4be0-ad23-8225f81363e7",
   "metadata": {},
   "outputs": [],
   "source": []
  },
  {
   "cell_type": "markdown",
   "id": "650f94ee-6e8d-4607-8cd4-8c998a7a5427",
   "metadata": {},
   "source": [
    "## Mock data\n",
    "\n",
    "Now we can start working with data using MinIO client and Rclone. If you haven't already prepared the mock data, then follow the instructions at  <a href=\"../T1_Getting_Access/L5_Mock_data.html\">T1_Getting_Access -> L5_Mock_data</a> to unpack the mock data for working with Acacia.\n",
    "\n",
    " In the **command line** change directory to **data -> simulation -> results**. On Windows this is \n",
    "\n",
    "```powershell\n",
    "cd C:\\path\\to\\acacia_training\\data\\simulation\\results\n",
    "```\n",
    "\n",
    "On Linux and MacOS change directory to the **simulation** directory using something like this:\n",
    "\n",
    "```bash\n",
    "cd /path/to/acacia_training/data/simulation/results\n",
    "```"
   ]
  },
  {
   "cell_type": "markdown",
   "id": "1bcdee17-9052-4ae4-a854-80de4dc73087",
   "metadata": {
    "tags": []
   },
   "source": [
    "## Working with files as objects\n",
    "\n",
    "An object is a file that is uploaded to the data store.\n",
    "\n",
    "### Limits\n",
    "\n",
    "There is no minimum or maximum limit on the **size** of objects that can be uploaded to Acacia. Only the number of objects per bucket (1 million max, 100,000 preferred) and your storage allocation are the limits. \n",
    "\n",
    "The object name:\n",
    "\n",
    "* **Must** be unique within a bucket. \n",
    "* **May** contain alpha-numeric characters\n",
    "    * 0-9\n",
    "    * A-Z\n",
    "    * a-z\n",
    "* **May** also contain these special characters:\n",
    "    * Forward slash ( **/** )\n",
    "    * Exclamation point ( **!** )\n",
    "    * Hyphen or dash ( **-** )\n",
    "    * Period ( **.** )\n",
    "    * Asterisk ( **\\*** )\n",
    "    * Single quote (')\n",
    "    * Open and close parentheses (())"
   ]
  },
  {
   "cell_type": "markdown",
   "id": "2b7677c7-a0da-4dd7-a863-c803aeac4390",
   "metadata": {},
   "source": [
    "### Copy a file to the object store\n",
    "\n",
    "#### Simple copies **to** Acacia\n",
    "\n",
    "Below we use `rclone` to copy a single file to Acacia. You can enable a progress bar with the **--progress** option.\n",
    "\n",
    "```bash\n",
    "rclone copy data_00.dat acacia-mine:$BucketName/ --progress\n",
    "```\n",
    "\n",
    "Congratulations, you just copied your first file to Acacia! It is important to remember that `rclone` works a bit like **rsync** and only copies if the **size** or **modification time** have changed. "
   ]
  },
  {
   "cell_type": "markdown",
   "id": "a378d2fc-3b07-4796-a98f-e8781326ecd2",
   "metadata": {},
   "source": [
    "**Exercise: Make another bucket and copy the file again to the new bucket.**"
   ]
  },
  {
   "cell_type": "code",
   "execution_count": null,
   "id": "8352fcbb-f64c-4f3f-94f3-929b160e24bd",
   "metadata": {},
   "outputs": [],
   "source": []
  },
  {
   "cell_type": "markdown",
   "id": "934bb812-478d-47b2-af47-ada9ff318de8",
   "metadata": {},
   "source": [
    "This shows that different buckets can have the same object name."
   ]
  },
  {
   "cell_type": "markdown",
   "id": "fbbfdb71-fb6c-4f69-b5fb-99a1a30cb860",
   "metadata": {},
   "source": [
    "#### Simple copies **from** Acacia\n",
    "\n",
    "We can copy a single file from Acacia to your system in much the same way."
   ]
  },
  {
   "cell_type": "markdown",
   "id": "c037104d-467c-4db7-acf0-628b5d0455cf",
   "metadata": {},
   "source": [
    "```bash\n",
    "rclone copy acacia-mine:$BucketName/data_00.dat .\n",
    "```\n",
    "\n",
    "> When copying files from Acacia to /scratch with **rclone** always set the flag **--local-no-set-modtime** so that it doesn't set an old modification time on copied files. Old files get deleted as a result of the 30-day data retention policy. \n",
    "\n",
    "```bash\n",
    "rclone copy acacia-mine:$BucketName/data_00.dat . --local-no-set-modtime\n",
    "```"
   ]
  },
  {
   "cell_type": "markdown",
   "id": "b89076ed-7cae-4fe4-8080-c7e0758f53ee",
   "metadata": {},
   "source": [
    "#### Pseudofolders\n",
    "\n",
    "All storage within a bucket is flat storage, however when working with Acacia using `rclone` we can prepend any number of pseudofolders (separated by a forward slash) to the name of the object in order to keep file names unique. In this instance we use the pseudofolder **test**. Notice that we don't need to make the **test** pseudofolder beforehand.\n",
    "\n",
    "```bash\n",
    "rclone copy data_00.dat acacia-mine:$BucketName/test/ --progress \n",
    "```\n",
    "\n",
    "```bash\n",
    "rclone ls acacia-mine:$BucketName\n",
    "```\n",
    "\n",
    "In such instances the text **test/** is prepended to the name of the object. In a similar manner we can use the pseudofolder when copying back from object storage.\n",
    "\n",
    "```bash\n",
    "rclone copy acacia-mine:$BucketName/test/data_00.dat . --progress\n",
    "```"
   ]
  },
  {
   "cell_type": "markdown",
   "id": "e0b17b6c-b845-4e93-ba88-e58676bce42c",
   "metadata": {
    "jp-MarkdownHeadingCollapsed": true,
    "tags": []
   },
   "source": [
    "#### Copies with checksums\n",
    "\n",
    "Rclone can use md5 checksums to copy data, use the `--checksum` option:\n",
    "\n",
    "```bash\n",
    "rclone copy data_00.dat acacia-mine:$BucketName --checksum --progress\n",
    "```"
   ]
  },
  {
   "cell_type": "markdown",
   "id": "342047ca-0bcc-4756-87ee-bd1df0ab1453",
   "metadata": {
    "tags": []
   },
   "source": [
    "### Copy multiple files by selection\n",
    "\n",
    "When copying multiple files with rclone you select the directory to copy and use the  `--include` option to select files using some common regular expressions. See [this page](https://rclone.org/filtering/) for more information.\n",
    "\n",
    "```bash\n",
    "# Copy to Acacia, don't forget the dot .\n",
    "rclone copy . acacia-mine:$BucketName/ --include \"data_0*.dat\" --progress\n",
    "```\n",
    "```bash\n",
    "# Copy from Acacia, don't forget the dot .\n",
    "rclone copy acacia-mine:$BucketName/ . --include \"data_0*.dat\" --progress\n",
    "```"
   ]
  },
  {
   "cell_type": "markdown",
   "id": "e00479a0-a01f-44c4-8f93-26672d916ee9",
   "metadata": {},
   "source": [
    "### Moving objects\n",
    "\n",
    "Rclone supports moving files on Acacia. Be careful with this command as it can overwrite existing objects.\n",
    "\n",
    "```bash\n",
    "rclone moveto acacia-mine:$BucketName/data_00.dat.temp acacia-mine:$BucketName/data_00.dat\n",
    "```"
   ]
  },
  {
   "cell_type": "markdown",
   "id": "77a38b86-d29b-4e46-9747-ba89b4aefd1c",
   "metadata": {
    "tags": []
   },
   "source": [
    "### Working with metadata\n",
    "\n",
    "Acacia has the ability to associate metadata with objects in the form of **key:value** pairs. This is very useful because the right metadata might save an expensive retrieval operation.\n",
    "\n",
    "For example, we have two key:value pairs that we would like to associate with objects uploaded to our bucket\n",
    "\n",
    "```python\n",
    "\"island\": \"Rottnest\"\n",
    "\"season\" : \"winter\"\n",
    "```"
   ]
  },
  {
   "cell_type": "markdown",
   "id": "d0c8a611-c48e-47d7-9c52-a61e2f2c05c7",
   "metadata": {
    "tags": []
   },
   "source": [
    "#### Adding metadata\n",
    "\n",
    "With **rclone**, uploading metadata is slightly complex, the key:value pairs are part of a http header entry whose name is prefixed by **X-Amz-Meta-**. Each key:value pair must have it's own **--header** option.\n",
    "\n",
    "```bash\n",
    "rclone copy data_00.dat acacia-mine:$BucketName/ --header \"X-Amz-Meta-<key>: <value>\" --header \"X-Amz-Meta-<key>: <value>\"\n",
    "```\n",
    "for our example above, this is\n",
    "\n",
    "```bash\n",
    "rclone copy data_00.dat acacia-mine:$BucketName/ --header \"X-Amz-Meta-island: Rottnest\" --header \"X-Amz-Meta-season: winter\"\n",
    "```\n",
    "\n",
    "> Note: **Metadata is only created when an object is created**. This is rather disappointing. With rclone, if a file is already on the object store then the above command will **not** update the metadata :-( In such instances the only way I can see to update the metadata is to use the option **--no-check-dest** which will upload the data again."
   ]
  },
  {
   "cell_type": "markdown",
   "id": "34ad2249-a751-43f2-9157-c3573b4addce",
   "metadata": {
    "tags": []
   },
   "source": [
    "#### Extracting metadata\n",
    "\n",
    "You can use the `lsjson` command, with option `-M` to extract metadata, and if extracting metadata for a single file add the `--stat` option. \n",
    "\n",
    "```bash\n",
    "rclone lsjson -M --stat acacia-mine:$BucketName/data_00.dat\n",
    "```"
   ]
  },
  {
   "cell_type": "markdown",
   "id": "54939c3a-63a2-4288-bff6-a1892b66c647",
   "metadata": {},
   "source": [
    "### Constructing URL's for sharing your data\n",
    "\n",
    "#### Creating a download link\n",
    "\n",
    "Sometimes you need to share data with someone else. Rclone supports the creation of a publicly accessible link using the command\n",
    "\n",
    "```bash\n",
    "rclone link acacia-mine:$BucketName/data_00.dat --expire 1d\n",
    "```\n",
    "\n",
    "The maximum time allowed for a valid link is 1 week. You can use the **--expire** option to set a shorter duration. Once links are created it appears they cannot be removed until expiration."
   ]
  },
  {
   "cell_type": "markdown",
   "id": "15642ef4-337b-4203-9c49-edf59d1f4387",
   "metadata": {},
   "source": [
    "**Exercise: create your own download link to the file data_00.dat**\n",
    "\n",
    "Test the link by downloading the file with a web browser."
   ]
  },
  {
   "cell_type": "markdown",
   "id": "adc35536-ce55-4d7d-8aa7-8185fdba3998",
   "metadata": {
    "tags": []
   },
   "source": [
    "### Removing objects\n",
    "\n",
    "In addition to the brute force bucket removal options, `rclone` has the ability to remove individual objects.\n",
    "\n",
    "#### Simple removal\n",
    "\n",
    "If you just need to delete one file here is the command:\n",
    "\n",
    "```bash\n",
    "rclone delete acacia-mine:$BucketName/data_00.dat\n",
    "```\n",
    "\n",
    "#### Removal of more than one file\n",
    "\n",
    "Rclone has filters to select objects when deleting. Just use the **--include** option and you can do regular expression style pattern matching.\n",
    "\n",
    "```bash\n",
    "rclone delete acacia-mine:$BucketName --include \"data_*.dat\"\n",
    "```"
   ]
  },
  {
   "cell_type": "markdown",
   "id": "5d02ba36-4b2e-4cb1-8aee-3bdc9879b688",
   "metadata": {},
   "source": [
    "**Exercise: use one of the delete commands above to remove all .dat files from your test bucket**"
   ]
  },
  {
   "cell_type": "code",
   "execution_count": null,
   "id": "b94131cf-c5c1-46d0-8671-42a47196b884",
   "metadata": {},
   "outputs": [],
   "source": []
  },
  {
   "cell_type": "markdown",
   "id": "ab373fe6-62ce-44da-805f-39cd458d944d",
   "metadata": {
    "tags": []
   },
   "source": [
    "### Synchronising folder structures to and from Acacia\n",
    "\n",
    "Object storage is indeed flat within a bucket, however we can replicate a directory structure using **pseudofolders**. Both mc and rclone have the ability to recursively synchronise a directory to the object store, and each will only copy files that need copying. Recent Pawsey experience suggests that rclone is a more robust tool for this task, with one huge caveat!\n",
    "\n",
    "#### Mirror the contents of a local directory to Acacia\n",
    "\n",
    "In your terminal use the **cd** command to change directory to **data**, the one above **simulation**. We are going to mirror the **contents** of the **simulation** directory to an acacia bucket and prepend **test** to object names so that the contents of simulation appear to be in the **test** pseudofolder."
   ]
  },
  {
   "cell_type": "markdown",
   "id": "93c7a171-382c-432b-afb8-2d1d9f4bb99b",
   "metadata": {},
   "source": [
    "```bash\n",
    "rclone sync simulation acacia-mine:$BucketName/test/ --progress\n",
    "```\n",
    "\n",
    "#### Parallel transfers\n",
    "\n",
    "With **rclone** we can also specify how many transfers to perform in parallel with the **--transfers** flag.\n",
    "\n",
    "```bash\n",
    "rclone delete acacia-mine:$BucketName/test\n",
    "rclone sync simulation acacia-mine:$BucketName/test/ --progress --transfers 12\n",
    "```\n",
    "\n",
    "The Pawsey team recommends **--transfers 12**, but you can certainly try your own number of parallel transfers to see which is optimal. \n",
    "\n",
    "#### Excluding files \n",
    "\n",
    "You may also use multiple **--exclude** options with both commands to exclude certain files based on regular expressions. \n",
    "\n",
    "```bash\n",
    "rclone sync simulation acacia-mine:$BucketName/test/ --progress --exclude \"*.log\"\n",
    "```\n",
    "\n",
    "#### Checksums for verified copies\n",
    "\n",
    "As with the copy command, **rclone** has the option of using md5 checksums to ensure data consistency.\n",
    "\n",
    "```bash\n",
    "rclone sync simulation acacia-mine:$BucketName/test/ --progress --transfers 12 --checksum\n",
    "```\n",
    "\n",
    "You can also use the **check** command with rclone to check a directory of files\n",
    "\n",
    "```bash\n",
    "rclone check simulation acacia-mine:$BucketName/test/ --checksum --combined report.txt\n",
    "```\n",
    "\n",
    "#### Mirror the contents of an Acacia pseudofolder to a local directory\n",
    "\n",
    "Synchronising a folder structure back from Acacia works much the same way. Here we make another directory called **simulation2** and synchronise the structure back from Acacia. Note that **rclone** client  will **destructively synchronize** a local directory!\n",
    "\n",
    "```bash\n",
    "rclone sync acacia-mine:$BucketName/test/ simulation2/\n",
    "ls simulation2\n",
    "# Notice that simulation2/temp is now gone\n",
    "```\n",
    "\n",
    "> It is advisable **not** to use **rclone sync** to move data from Acacia to a local filesystem as it could destroy data! Use a copy instead."
   ]
  },
  {
   "cell_type": "markdown",
   "id": "6bfdaae3-ef77-4f6b-9e8d-fe493b786599",
   "metadata": {},
   "source": [
    "#### **Exercise: use rclone to mirror the simulation directory to your chosen bucket name.** \n",
    "\n",
    "Feel free to use the **--exclude** options to omit for example the log files. "
   ]
  },
  {
   "cell_type": "markdown",
   "id": "7b87561f-8abc-456e-ba79-28d452de502b",
   "metadata": {},
   "source": [
    "> Note: empty directories can't be represented directly on the object store. If you need that functionality then use tar to preserve file and directory structures. Try creating an empty directory in **simulation** and see if it is replicated to Acacia."
   ]
  },
  {
   "cell_type": "markdown",
   "id": "150e19d2-1d71-4f8d-abcf-02af98619ecb",
   "metadata": {},
   "source": [
    "### Checking the size and number of objects in a storage location\n",
    "\n",
    "From time to time you might need to count the number of objects in a bucket. You can either do this at the [portal](https://portal.pawsey.org.au) then click on ACACIA and then your storage access. \n",
    "\n",
    "<figure style=\"margin-bottom 3em; margin-top: 2em; margin-left:auto; margin-right:auto; width:80%\">\n",
    "    <img style=\"vertical-align:middle\" src=\"../images/s3_bucket_viewer.png\"> <figcaption style= \"text-align:lower; margin:1em; float:bottom; vertical-align:bottom;\">Figure: S3 bucket viewer on the Pawsey portal.</figcaption>\n",
    "</figure>\n",
    "\n",
    "Alternatively, you can use the rclone **size** command to tally the number of objects in a storage location.\n",
    "\n",
    "```bash\n",
    "# Get the size and number of all objects\n",
    "rclone size acacia-mine:\n",
    "\n",
    "# Get the size of number of objects in a bucket.\n",
    "rclone size acacia-mine:$BucketName\n",
    "\n",
    "# Get the size and number of objects in a pseudofolder called **temp**\n",
    "rclone size acacia-mine:$BucketName/temp\n",
    "```"
   ]
  },
  {
   "cell_type": "markdown",
   "id": "5c389897-1b12-4831-b21c-e4799ddf2280",
   "metadata": {},
   "source": [
    "### A brief conversation about permissions on project storage\n",
    "\n",
    "Permissions on **project** storage is an **advanced** topic and still under investigation by Pawsey staff. However if you are using Acacia project storage here are some best practices to follow when the time comes.\n",
    "\n",
    "* By default **rclone** creates objects and buckets with **private** permissions. For personal storage this means no other ordinary user has access to it. In the context of project storage, private permissions means **private to your project**. All users in your project have **full access** to files in project storage on Acacia. No other ordinary users have access to project storage, but you can make access available using URL's.\n",
    "* Don't use Amazon S3 ACL's (Access Control Lists). They are a relic from the past history of the S3 storage protocol and recent Pawsey experience has shown them to be potentially dangerous. An Acacia user locked themselves out **of their own bucket** using ACL's and lost their data.\n",
    "* If you need to make certain files in your project storage **read-only**, then use an object lock such as a **legal hold**.\n",
    "* If you need to share data with someone else outside your project then:\n",
    "    * Use URL's to share data with people outside your project.\n",
    "    * Look at applying **policies** to buckets and objects to share them in a specific way."
   ]
  },
  {
   "cell_type": "markdown",
   "id": "72150576-3f70-480c-b4f6-a7e786a86053",
   "metadata": {},
   "source": [
    "## Clean up\n",
    "\n",
    "You really don't want your test buckets taking up space. Purge them with the following command:\n",
    "\n",
    "```bash\n",
    "rclone purge acacia-mine:$BucketName\n",
    "```"
   ]
  },
  {
   "cell_type": "code",
   "execution_count": null,
   "id": "a94be8a2-11ff-4d0a-bd86-896dd0895576",
   "metadata": {},
   "outputs": [],
   "source": []
  }
 ],
 "metadata": {
  "kernelspec": {
   "display_name": "Python 3 (ipykernel)",
   "language": "python",
   "name": "python3"
  },
  "language_info": {
   "codemirror_mode": {
    "name": "ipython",
    "version": 3
   },
   "file_extension": ".py",
   "mimetype": "text/x-python",
   "name": "python",
   "nbconvert_exporter": "python",
   "pygments_lexer": "ipython3",
   "version": "3.10.12"
  }
 },
 "nbformat": 4,
 "nbformat_minor": 5
}
