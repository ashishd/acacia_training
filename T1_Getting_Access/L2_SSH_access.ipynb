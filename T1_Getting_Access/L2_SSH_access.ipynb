{
 "cells": [
  {
   "cell_type": "markdown",
   "id": "dc2179bc-981c-40e3-8de4-bccc20f3af6e",
   "metadata": {},
   "source": [
    "# Command line access to Pawsey systems\n",
    "\n",
    "SSH, (Secure SHell) is a way to get access to Pawsey systems using an encrypted command line interface. A Pawsey account with a working password is **necessary** for these tutorials. For this workshop you will be given a training login to use.\n",
    "\n",
    "When you use Pawsey systems using your real account and don't know your password you can reset it at this link.\n",
    "\n",
    "[https://support.pawsey.org.au/password-reset/](https://support.pawsey.org.au/password-reset/)"
   ]
  },
  {
   "cell_type": "markdown",
   "id": "f9047c71-7885-4db2-9dc1-677fd0e0108b",
   "metadata": {},
   "source": [
    "## Pawsey systems\n",
    "\n",
    "Pawsey has a number of systems available. We usually use Setonix for this workshop, but sometimes we need to use another machine. Before the workshop begins we will let you know one to use. Here are the hostnames of Pawsey computers.\n",
    "\n",
    "| host | hostname |\n",
    "| :-- | :-- |\n",
    "Setonix | setonix.pawsey.org.au"
   ]
  },
  {
   "cell_type": "markdown",
   "id": "33f91fa1-de15-406b-856f-f21c639ce59a",
   "metadata": {},
   "source": [
    "## SSH with Linux, MacOS, and other Unices\n",
    "\n",
    "On MacOS the **Terminal** application is located in Applications -> Utilities. On Linux and other Unices start your favourite terminal emulator. On Linux, the **ssh** command line program is likely already installed, but if it isn't you can install it with your package manager. Now login to the pawsey computer with this command\n",
    "\n",
    "```bash\n",
    "ssh <username>@<pawsey_computer>\n",
    "```\n",
    "\n",
    "Replace **<username\\>** with your given username and **<pawsey_computer\\>** with the hostname of the computer to be used, enter your password when prompted."
   ]
  },
  {
   "cell_type": "markdown",
   "id": "8cf10580-8701-474b-9bdc-d32ac11ea7ec",
   "metadata": {},
   "source": [
    "## SSH with Windows\n",
    "\n",
    "There are a number of SSH clients for Windows.\n",
    "\n",
    "### Builtin SSH client\n",
    "\n",
    "Windows 10 build 1809 and later (2020+) has SSH and SCP clients that are accessible from the command line. Just open a Command Prompt or PowerShell and enter the SSH login command with the appropriate substitutions for **<username\\>** and **<pawsey_computer\\>**.\n",
    "\n",
    "```bash\n",
    "ssh <username>@<pawsey_computer>\n",
    "```\n",
    "\n",
    "### MobaXterm client\n",
    "\n",
    "If you have a OS that is older than Windows 10 and need a client in a hurry just download **MobaXterm Home (Portable Edition)** from [this location](https://mobaxterm.mobatek.net/download-home-edition.html). Extract the Zip file and run the application. You might need to accept a firewall notification. \n",
    "\n",
    "Now go to **Settings -> SSH** and uncheck **\"Enable graphical SSH-browser\"** in the SSH-browser settings pane. Also enable **\"SSH keepalive\"** to keep SSH connections active.\n",
    "\n",
    "<figure style=\"margin-bottom 3em; margin-top: 2em; margin-left:auto; margin-right:auto; width:100%\">\n",
    "    <img style=\"vertical-align:middle\" src=\"../images/MobaXTerm_Settings.svg\"> <figcaption style= \"text-align:lower; margin:1em; float:bottom; vertical-align:bottom;\">Figure: MobaXTerm settings.</figcaption>\n",
    "</figure>\n",
    "\n",
    "Then close the settings and start a local terminal."
   ]
  },
  {
   "cell_type": "markdown",
   "id": "caeb0b98-7614-41b7-93d8-4cc898b79b80",
   "metadata": {},
   "source": [
    "<figure style=\"margin-bottom 3em; margin-top: 2em; margin-left:auto; margin-right:auto; width:100%\">\n",
    "    <img style=\"vertical-align:middle\" src=\"../images/MobaXTerm.svg\"> <figcaption style= \"text-align:lower; margin:1em; float:bottom; vertical-align:bottom;\">Figure: MobaXTerm.</figcaption>\n",
    "</figure>"
   ]
  },
  {
   "cell_type": "markdown",
   "id": "0d20f34c-c412-47ed-b2b6-dd48bfdf328f",
   "metadata": {},
   "source": [
    "From the command line enter the following to ssh to connect to the Pawsey computer.\n",
    "\n",
    "```bash\n",
    "ssh <username>@<pawsey_computer>\n",
    "```"
   ]
  },
  {
   "cell_type": "markdown",
   "id": "e4680902-e25f-48e5-919f-040257c463a8",
   "metadata": {},
   "source": [
    "Replace **<username\\>** with your given user name, **<pawsey_computer\\>** with the hostname of the Pawsey computer to use, and enter your password when prompted."
   ]
  },
  {
   "cell_type": "markdown",
   "id": "baf258d2-26f7-4f2e-a35b-3ab01687ba3f",
   "metadata": {
    "tags": []
   },
   "source": [
    "## Best practices for data movement operations\n",
    "\n",
    "Ideally, all intensive data movement operations at Pawsey need to use data mover nodes. Setonix has data mover nodes, and they can only be accessed through a script or interactive job that uses the **copy** queue e.g.\n",
    "\n",
    "```bash\n",
    "salloc --account ${PAWSEY_PROJECT} --nodes=1 --ntasks=1 --cpus-per-task=8 --time 2:00:00 --partition copy\n",
    "```"
   ]
  },
  {
   "cell_type": "code",
   "execution_count": null,
   "id": "d17ca15a-b234-4f5a-8cbe-b1bdceab8b11",
   "metadata": {},
   "outputs": [],
   "source": []
  }
 ],
 "metadata": {
  "kernelspec": {
   "display_name": "Python 3 (ipykernel)",
   "language": "python",
   "name": "python3"
  },
  "language_info": {
   "codemirror_mode": {
    "name": "ipython",
    "version": 3
   },
   "file_extension": ".py",
   "mimetype": "text/x-python",
   "name": "python",
   "nbconvert_exporter": "python",
   "pygments_lexer": "ipython3",
   "version": "3.10.12"
  }
 },
 "nbformat": 4,
 "nbformat_minor": 5
}
