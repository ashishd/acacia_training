{
 "cells": [
  {
   "cell_type": "markdown",
   "id": "efac3c86-25d5-4c6a-a645-4bed26ce2491",
   "metadata": {
    "tags": []
   },
   "source": [
    "# Course material and mock data\n",
    "\n",
    "Before we can work with Acacia we need to have the mock data ready to go. \n",
    "\n",
    "## Prepare the mock data on your computer\n",
    "\n",
    "Navigate to `Acacia_training-main -> data` folder and extract the contents of the file `data.zip` inside the `data` directory. This should create a directory called `simulation` inside the `data` directory.\n",
    "\n",
    "## Prepare the mock data on a Pawsey system\n",
    "\n",
    "If you are doing this tutorial on a Pawsey supercomputer you need a copy of the course material in your scratch folder. For this workshop the scratch folder is located in \n",
    "\n",
    "```bash\n",
    "/scratch/${PAWSEY_PROJECT}/${USER}\n",
    "```\n",
    "\n",
    "Change to that directory and run this command to fetch the course material\n",
    "\n",
    "```bash\n",
    "cd /scratch/${PAWSEY_PROJECT}/${USER}\n",
    "wget https://github.com/pelagos-consulting/Acacia_training/archive/refs/heads/main.zip\n",
    "# The -DD flag is to force an update of the access time\n",
    "# to avoid being deleted immediately by the scratch retention policy\n",
    "unzip -DD main.zip\n",
    "``` \n",
    "\n",
    "The unpacked course material will be in the `Acacia_training-main` folder. Now navigate to the `data` folder within `Acacia_training-main` and extract the mock data with this command.\n",
    "\n",
    "```bash\n",
    "cd Acacia_training-main/data\n",
    "unzip -DD data.zip\n",
    "```\n",
    "\n",
    "## Mock data structure \n",
    "\n",
    "If you look inside the `data` directory there is a folder called `simulation`. Inside simulation are two subfolders, `results` and `log`. The `results` folder contains binary files and the `log` folder contains text files. The Python 3 script in `data -> make_data.py` can make the zip file with files of any size (that fit in memory).\n",
    "\n",
    "## How to copy the course material from your computer to Pawsey\n",
    "\n",
    "Open a command prompt and use the `cd` command to change directory to where the `Acacia_training-main` folder is on your local system. Then run this command\n",
    "\n",
    "```bash\n",
    "scp -r Acacia_training-main <username>@<pawsey_computer>:/scratch/<project_name>/<username>/\n",
    "```\n",
    "\n",
    "Replace `<username>`, `<pawsey_computer>`, and `<project_name>` with the relevant values. MobaXterm users can start an SFTP session to `<pawsey_computer>` with `Session -> SFTP` and copy the **Acacia_training-main** folder from the local machine to `/scratch/<project_name>/<username>`."
   ]
  },
  {
   "cell_type": "markdown",
   "id": "9d8808c9-ce8b-4771-83a0-681f75ec68e3",
   "metadata": {},
   "source": [
    "## How to copy the course material from Pawsey to your computer\n",
    "\n",
    "Open a command prompt and use the **cd** command to change directory to where you would like the **acacia_training** folder to be. Then run this command\n",
    "\n",
    "```bash\n",
    "scp -r <username>@<pawsey_computer>:/scratch/<project_name>/<username>/Acacia_training-main ./\n",
    "```\n",
    "\n",
    "Replace **<username\\>** with your given user name, **<project_name\\>** with your project name/ID, and **<pawsey_computer\\>** with the hostname of the Pawsey computer that you are using. MobaXterm users can start an SFTP session to **<pawsey_computer\\>** with **Session -> SFTP** and copy the **Acacia_training-main** folder to your computer."
   ]
  },
  {
   "cell_type": "code",
   "execution_count": null,
   "id": "a7356186-172b-4b73-ad21-3785ee176dbc",
   "metadata": {},
   "outputs": [],
   "source": []
  },
  {
   "cell_type": "code",
   "execution_count": null,
   "id": "65659ef2-7a07-4977-bfdb-f600817f1d01",
   "metadata": {},
   "outputs": [],
   "source": []
  }
 ],
 "metadata": {
  "kernelspec": {
   "display_name": "Python 3 (ipykernel)",
   "language": "python",
   "name": "python3"
  },
  "language_info": {
   "codemirror_mode": {
    "name": "ipython",
    "version": 3
   },
   "file_extension": ".py",
   "mimetype": "text/x-python",
   "name": "python",
   "nbconvert_exporter": "python",
   "pygments_lexer": "ipython3",
   "version": "3.10.12"
  }
 },
 "nbformat": 4,
 "nbformat_minor": 5
}
