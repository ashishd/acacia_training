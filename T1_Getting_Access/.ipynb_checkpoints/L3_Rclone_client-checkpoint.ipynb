{
 "cells": [
  {
   "cell_type": "markdown",
   "id": "8b0175df-318f-459a-997f-ef8f87bc98d3",
   "metadata": {
    "tags": []
   },
   "source": [
    "# Setting up the Rclone client for use with Acacia\n",
    "\n",
    "[Rclone](https://rclone.org/) is an open source tool that focuses on transferring data over a wide variety of cloud storage protocols, including the Amazon S3 protocol in use on Acacia. "
   ]
  },
  {
   "cell_type": "markdown",
   "id": "4f2dfcd6-bd87-4c97-ad5b-7db81c912b05",
   "metadata": {},
   "source": [
    "## Rclone on Pawsey systems\n",
    "\n",
    "On Pawsey systems the Rclone client is already installed. This command makes the **rclone** application accessible."
   ]
  },
  {
   "cell_type": "markdown",
   "id": "03aade05-bf31-49d1-b6f9-92cbaf159b9e",
   "metadata": {},
   "source": [
    "```bash\n",
    "module load rclone/<version>\n",
    "```\n",
    "You can see which versions are available by running this command\n",
    "\n",
    "```bash\n",
    "module spider rclone\n",
    "```\n",
    "\n",
    "Once the module is loaded, **rclone** will be available for use. Feel to put **module load** command into a script that you can source after logging in. If you are not also installing rclone on your computer, then scroll down to [configure rclone with your personal access key](#configure_rclone)."
   ]
  },
  {
   "cell_type": "markdown",
   "id": "d8686989-ab78-4a28-b1a0-a9140fcac5ff",
   "metadata": {
    "tags": []
   },
   "source": [
    "## Installing Rclone on your computer\n",
    "\n",
    "Click on [downloads](https://rclone.org/downloads/) to be taken across to the Rclone downloads page. There you will find installers for MacOS, Windows, Linux and other Unix distributions. Generally, if you download the same version as what Pawsey has, then there is the reduced chance of a compatability issue across versions. Follow the instructions in the [Install Page](https://rclone.org/install/) to install Rclone for your operating system.\n",
    "\n",
    "### Windows installation\n",
    "\n",
    "On Windows 10 and 11 the [winget](https://learn.microsoft.com/en-us/windows/package-manager/winget/) tool is a really easy way to install Rclone. Use this command as administrator from the command line (the user assumes all risk in doing this!)\n",
    "\n",
    "```bash\n",
    "winget install Rclone.Rclone -v 1.63.1\n",
    "```\n",
    "\n",
    "### MacOS, Linux, WSL, and other Unices\n",
    "\n",
    "For Unix operating systems using a zipped binary is usually sufficient. Use `curl` to download the relevant rclone zip package to your system and `unzip` to extract it. Then append this line to your ~/.bashrc or ~/.zshrc. Replace /path/to/rclone with the path to the directory that contains the **rclone** binary.\n",
    "\n",
    "```bash\n",
    "export PATH=\"/path/to/rclone:$PATH\"\n",
    "```\n",
    "\n",
    "Or if you are using csh or tcsh then add this line to ~/.cshrc\n",
    "\n",
    "```csh\n",
    "setenv PATH $PATH:/path/to/rclone\n",
    "```\n",
    "\n",
    "For Linux there are .deb and .rpm packages that you can also install. On MacOS there might be a permissions issue to navigate, but the [Install Page](https://rclone.org/install/) has the solution.\n",
    "\n",
    "### MacOS package managers\n",
    "\n",
    "On MacOS you can additionally use [MacPorts](https://www.macports.org/) or [Homebrew](https://brew.sh/) to install rclone.\n",
    "\n",
    "### Success?\n",
    "\n",
    "Success means you can run rclone from the command line\n",
    "\n",
    "```bash\n",
    "rclone --help\n",
    "```"
   ]
  },
  {
   "cell_type": "markdown",
   "id": "b24fd323-ce8a-4ca6-86b5-d20f8d7ba3eb",
   "metadata": {},
   "source": [
    "<a id=\"configure_rclone\"></a>\n",
    "\n",
    "## Configure Rclone with your personal access key\n",
    "\n",
    "We now need to configure rclone to use Acacia. On the command line type this command to start the configuration process:\n",
    "\n",
    "```bash\n",
    "rclone config\n",
    "```\n",
    "\n",
    "In Rclone, an access to a storage system is called a **remote**. In the dialogue provided\n",
    "select **n** and **enter** to make a new remote.\n",
    "\n",
    "Here is the config information you need. \n",
    "\n",
    "Field | What to enter in, no information provided means leave empty\n",
    ":-- | :-- | \n",
    "name> | **acacia-mine** \n",
    "Storage> |  s3    \n",
    "provider> | Ceph\n",
    "env_auth> | false\n",
    "access_key_id> | Your Acacia Access ID\n",
    "secret_access_key> | Your Acacia Secret Key\n",
    "region> | \n",
    "endpoint> | https://projects.pawsey.org.au \n",
    "location_constraint> | \n",
    "acl> | \n",
    "server_side_encryption> | \n",
    "sse_kms_key_id> | \n",
    "Edit advanced config> | n \n",
    "\n",
    "Then press **Enter** to accept the new remote and **q** to quit. "
   ]
  },
  {
   "cell_type": "markdown",
   "id": "7c85dcee-c351-4c8e-91b8-8127cfc9f2cf",
   "metadata": {},
   "source": [
    "## Setting up Rclone with your project access key\n",
    "    \n",
    "You may optionally wish to repeat this step for your project access key. In that instance use your project name instead of **acacia-mine** and the access key pair associated with the project. You can always edit (e) or delete (d) existing remotes. "
   ]
  },
  {
   "cell_type": "markdown",
   "id": "fbd51fe1-8096-4230-bbfb-29d7c5d5f968",
   "metadata": {},
   "source": [
    "## Configuration file\n",
    "\n",
    "On Linux, MacOS and other Unix systems the configuration file for Rclone is located here\n",
    "\n",
    "```bash\n",
    "${HOME}/.config/rclone/rclone.conf\n",
    "```"
   ]
  },
  {
   "cell_type": "markdown",
   "id": "264dca76-6892-431d-a639-fe0e1f312d88",
   "metadata": {},
   "source": [
    "## Testing access"
   ]
  },
  {
   "cell_type": "markdown",
   "id": "2dc5ba05-08cd-428b-80cf-e927f11e1d7c",
   "metadata": {},
   "source": [
    "To test access to your storage you can use the **ls** command, the colon (:) must be there also.\n",
    "\n",
    "```bash\n",
    "rclone ls acacia-mine:\n",
    "```"
   ]
  },
  {
   "cell_type": "markdown",
   "id": "30e2d367-01da-49b9-9449-e71b05c0e306",
   "metadata": {},
   "source": [
    "## (Optional) autocompletion\n",
    "\n",
    "If you are using a **bash**, **zsh**, or **fish** shell then you can generate an autocomplete script by running this command.\n",
    "\n",
    "```bash\n",
    "mkdir -p ${HOME}/bin\n",
    "rclone genautocomplete bash ${HOME}/bin/rclone_autocomplete\n",
    "```\n",
    "\n",
    "replace **bash** with **zsh** or **fish** if you are using these shells. This will generate a script called **rclone_autocomplete** which you can source either from the command line or from the file ~/.bashrc\n",
    "\n",
    "```bash\n",
    ". ${HOME}/bin/rclone_autocomplete\n",
    "```"
   ]
  },
  {
   "cell_type": "markdown",
   "id": "292811d8-ef8f-41a7-a9e6-72ff50224da0",
   "metadata": {},
   "source": [
    "Restart your shell (or log in again) to accept these new changes"
   ]
  },
  {
   "cell_type": "code",
   "execution_count": null,
   "id": "34795891-2f3c-4c5f-9429-59bb859df897",
   "metadata": {},
   "outputs": [],
   "source": []
  }
 ],
 "metadata": {
  "kernelspec": {
   "display_name": "Python 3 (ipykernel)",
   "language": "python",
   "name": "python3"
  },
  "language_info": {
   "codemirror_mode": {
    "name": "ipython",
    "version": 3
   },
   "file_extension": ".py",
   "mimetype": "text/x-python",
   "name": "python",
   "nbconvert_exporter": "python",
   "pygments_lexer": "ipython3",
   "version": "3.10.12"
  }
 },
 "nbformat": 4,
 "nbformat_minor": 5
}
