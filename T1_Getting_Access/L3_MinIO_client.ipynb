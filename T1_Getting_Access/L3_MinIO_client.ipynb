{
 "cells": [
  {
   "cell_type": "markdown",
   "id": "5f741a0c-1120-4f7c-96c7-cb043c44874b",
   "metadata": {},
   "source": [
    "# Setting up the MinIO client\n",
    "\n",
    "[MinIO](https://min.io/) is a company that provides cloud-based object storage services. Their object storage client **mc** uses the S3 protocol and is therefore compatible with the Acacia Object store at Pawsey. The complete guide to MinIO Client is [here](https://docs.min.io/docs/minio-client-complete-guide.html)."
   ]
  },
  {
   "cell_type": "markdown",
   "id": "d6f9b417-432f-4ca8-8255-a442b7ee8a51",
   "metadata": {},
   "source": [
    "## MinIO client on Pawsey systems\n",
    "\n",
    "On Pawsey systems the MinIO client program **mc** is already installed, but you need to load a module to make it accessible."
   ]
  },
  {
   "cell_type": "markdown",
   "id": "8ed296db-048e-41d2-bc9a-b74d2c4ada29",
   "metadata": {},
   "source": [
    "```bash\n",
    "module load miniocli/<version>\n",
    "```\n",
    "\n",
    "You can see which versions are available by running this command\n",
    "\n",
    "```bash\n",
    "module spider miniocli\n",
    "```\n",
    "\n",
    "Once the module is loaded, **mc** will be available for use.\n",
    "\n",
    "```bash\n",
    "mc --help\n",
    "```\n",
    "\n",
    "Feel free to append the **module load** command to your ~/.bashrc file. If you are not also installing **mc** to your computer then skip down to [configure mc with your personal access key](#configure_mc) and configure mc to connect to Acacia."
   ]
  },
  {
   "cell_type": "markdown",
   "id": "0735a4e5-fa28-4c4a-a3a8-57d7f75cd976",
   "metadata": {},
   "source": [
    "## Installing the MinIO client on your computer\n",
    "\n",
    "The MinIO client executable is called **mc** on Linux/Unix systems and **mc.exe** on Windows systems. Here are the recommended ways to install it.\n",
    "\n",
    "### MacOS\n",
    "\n",
    "On MacOS the recommended way is to install via [Homebrew](https://brew.sh/). Open a Terminal and type in the following:\n",
    "\n",
    "```bash\n",
    "brew install minio/stable/mc\n",
    "```\n",
    "\n",
    "Then run the MinIO client command in the Terminal app with:\n",
    "\n",
    "```bash\n",
    "mc --help\n",
    "```\n",
    "\n",
    "### Linux\n",
    "\n",
    "On Linux you can use **wget** to download **mc**. I like to have small cloud apps such as **mc** in the ~/bin folder of my home directory. You can put the file wherever you like, just ensure it is executable. In a terminal emulator run the following commands to download **mc** to your ~/bin directory.\n",
    "\n",
    "```bash\n",
    "# Create the bin directory\n",
    "mkdir -p ~/bin\n",
    "cd ~/bin\n",
    "# Download MinIO client\n",
    "curl https://dl.min.io/client/mc/release/linux-amd64/mc --output mc\n",
    "# Make the client executable\n",
    "chmod +x ~/bin/mc\n",
    "```\n",
    "You may want to then include the directory that contains **mc** in your path. On BASH and Zsh you can add this line to ~/.bashrc or ~/.zshrc.\n",
    "\n",
    "```bash\n",
    "# Add ~/bin to your path \n",
    "export PATH=\"~/bin:$PATH\"\n",
    "```\n",
    "\n",
    "Or if you are using **csh** or **tcsh** add this line to ~/.cshrc\n",
    "\n",
    "```csh\n",
    "setenv PATH $PATH\\:~/bin\n",
    "```\n",
    "\n",
    "Make a new terminal window and run this command to get help with the MinIO client\n",
    "\n",
    "```bash\n",
    "mc --help\n",
    "```\n",
    "\n",
    "### Windows\n",
    "\n",
    "The Windows executable for MinIO client is available [at this link](https://dl.min.io/client/mc/release/windows-amd64/mc.exe)."
   ]
  },
  {
   "cell_type": "markdown",
   "id": "1eeb3b1e-d548-4920-bcd5-6d99915524ee",
   "metadata": {},
   "source": [
    "Download this file to your computer. In this example, make a directory called **bin** in your home folder to store **mc.exe**. If you open a Command Prompt the following command will tell you where the home folder is.\n",
    "\n",
    "```powershell\n",
    "echo %USERPROFILE%\n",
    "```\n",
    "\n",
    "Make the **bin** subfolder if you need to, and copy **mc.exe** to it. Now we add the **bin** directory to your Windows **Path** environment variable. In the search bar just type \"environment\" and it should return \"Edit the system environment variables\" or something similar. Click on that and you should enter the system properties. In the lower right hand corner click on \"Environment variables\" \n",
    "\n",
    "<figure style=\"margin-bottom 1em; margin-top: 1em; margin-left:auto; margin-right:auto; width:50%\">\n",
    "    <img style=\"vertical-align:middle\" src=\"../images/Windows_env_variables.png\"> <figcaption style= \"text-align:lower; margin:1em; float:bottom; vertical-align:bottom;\">Figure: editing Windows environment variables.</figcaption>\n",
    "</figure>"
   ]
  },
  {
   "cell_type": "markdown",
   "id": "77987e90-abb6-4c2d-b159-46df61d66fa2",
   "metadata": {},
   "source": [
    "Then click on **Edit** to edit the **Path** user variable"
   ]
  },
  {
   "cell_type": "markdown",
   "id": "be6295d3-572f-467d-9e7d-e60f946ef58b",
   "metadata": {},
   "source": [
    "<figure style=\"margin-bottom 3em; margin-top: 2em; margin-left:auto; margin-right:auto; width:40%\">\n",
    "    <img style=\"vertical-align:middle\" src=\"../images/User_env_variables.png\"> <figcaption style= \"text-align:lower; margin:1em; float:bottom; vertical-align:bottom;\">Figure: Edit the Path User environment variable.</figcaption>\n",
    "</figure>"
   ]
  },
  {
   "cell_type": "markdown",
   "id": "23a23eac-f09f-4dc0-b77b-ae6ffa83fa5a",
   "metadata": {},
   "source": [
    "Now click on \"New\" and make a new entry called \n",
    "\n",
    "```powershell\n",
    "%USERPROFILE%\\bin\n",
    "```\n",
    "\n",
    "The percent signs signify that USERPROFILE is an environment variable pointing to your home directory."
   ]
  },
  {
   "cell_type": "markdown",
   "id": "fdfcfe10-280d-4951-8650-cf2cd5002c97",
   "metadata": {},
   "source": [
    "<figure style=\"margin-bottom 3em; margin-top: 2em; margin-left:auto; margin-right:auto; width:50%\">\n",
    "    <img style=\"vertical-align:middle\" src=\"../images/User_var.png\"> <figcaption style= \"text-align:lower; margin:1em; float:bottom; vertical-align:bottom;\">Figure: editing Windows environment variables.</figcaption>\n",
    "</figure>"
   ]
  },
  {
   "cell_type": "markdown",
   "id": "f6869ce5-5a80-429c-869a-4188f5ea5c55",
   "metadata": {},
   "source": [
    "Other documentation on how to edit the PATH environment variable is [here](https://docs.microsoft.com/en-us/windows/win32/shell/user-environment-variables).\n",
    "\n",
    "Alternatively, in the Windows command line use this command to temporarily set the path to include the directory containing **mc.exe**.\n",
    "\n",
    "```powershell\n",
    "# Replace %USERPROFILE%\\bin with the directory that contains mc.exe\n",
    "path %USERPROFILE%\\bin;%PATH%\n",
    "```\n",
    "\n",
    "navigate to the directory that contains **mc.exe**. The **dir** command lists the contents of directories and **cd** changes directory. Then run the **mc** (or mc.exe) with\n",
    "\n",
    "```powershell\n",
    "mc --help\n",
    "```"
   ]
  },
  {
   "cell_type": "markdown",
   "id": "3d98bf17-36f8-48d7-be49-c971d4feb414",
   "metadata": {
    "tags": []
   },
   "source": [
    "<a id=\"configure_mc\"></a>\n",
    "\n",
    "## Configure MinIO with your personal access key\n",
    "\n",
    "Once you have access to a working **mc** then you can use these commands to insert your **personal Acacia key pair** into the mc configuration for your computer. In the commands below replace **\\$AccessID** and **\\$SecretKey** with information from the key pairs file that you created when you received the [access keys](Access_Keys.ipynb). In all following examples we are going to use the alias name **acacia-mine** for access to your personal allocation on Acacia.\n",
    "\n",
    "### Linux, MacOS, and other Unices\n",
    "\n",
    "Open a terminal emulator and enter in these commands with the appropriate text substitutions. \n",
    "\n",
    "```bash\n",
    "mkdir -p ~/.mc\n",
    "# Turn off history capture of this command\n",
    "set +o history\n",
    "mc alias set acacia-mine https://projects.pawsey.org.au $AccessID $SecretKey\n",
    "# Turn history back on\n",
    "set -o history\n",
    "ls -l ~/.mc/config.json\n",
    "```\n",
    "### Windows users\n",
    "\n",
    "Open a command prompt or Powershell prompt. If you set the PATH environment variable to include the directory that **mc.exe** is in then this should work:\n",
    "\n",
    "```bash\n",
    "# Windows users should use mc.exe instead of mc\n",
    "mc alias set acacia-mine https://projects.pawsey.org.au $AccessID $SecretKey\n",
    "```\n",
    "\n",
    "### Troubleshooting\n",
    "\n",
    "* There might be a problem with the key, try making a new one\n",
    "* The path isn't set up correctly to find the **mc** executable. Make sure the environment variable is as shown and the **mc** application lives in a folder that is in your path.\n",
    "* The firewall on your internet connection needs to support outgoing https requests.\n",
    "\n",
    "### General observations\n",
    "\n",
    "The above commands can be run any time to associate the alias with a new Access ID and Secret Key pair.\n",
    "\n",
    "> As a shortcut, when you create a key pair the Pawsey [portal](https://portal.pawsey.org.au) also provides the alias command for MinIO in the drop down menus. \n",
    "\n",
    "## Configure MinIO with your project access key\n",
    "\n",
    "Setting up the key pair for project access largely the same, just use a different alias name instead of **acacia-mine**. Make a key pair for your project and use the mc alias command as above to setup project access using your **project key pair**."
   ]
  },
  {
   "cell_type": "markdown",
   "id": "a0a91e70-7d9f-4a14-bb19-273fd1485841",
   "metadata": {},
   "source": [
    "## Configuration file\n",
    "\n",
    "On Pawsey, Linux, MacOS, and other Unix systems the configuration file for **mc** is located here\n",
    "\n",
    "```bash\n",
    "$HOME/.mc/config.json\n",
    "```\n",
    "\n",
    "On Windows the configuration file for mc is located at\n",
    "\n",
    "```powershell\n",
    "%USERPROFILE%\\mc\\config.json\n",
    "```"
   ]
  },
  {
   "cell_type": "markdown",
   "id": "561c0b5d-edee-4529-9e65-632811c12679",
   "metadata": {},
   "source": [
    "## Testing your connection to Acacia\n",
    "\n",
    "To test your connection run this \n",
    "\n",
    "```bash\n",
    "mc ls acacia-mine\n",
    "```\n",
    "\n",
    "If you didn't get an error then the connection was successful. However, if you got something like this\n",
    "\n",
    "```bash\n",
    "mc: <ERROR> Unable to list folder. The access key ID you provided does not exist in our records.\n",
    "```\n",
    "\n",
    "Then the access key isn't working properly. \n",
    "\n",
    "### Debug mode\n",
    "\n",
    "There is also a debug mode you can enable to help diagnose faults\n",
    "\n",
    "```\n",
    "mc --debug ls acacia-mine\n",
    "```"
   ]
  },
  {
   "cell_type": "markdown",
   "id": "4e3ff5bd-e507-4777-a8c7-809fd34db0df",
   "metadata": {},
   "source": [
    "## (Optional) Enable autocompletion \n",
    "\n",
    "I find it really useful to have autocompletion enabled for mc. Here is the command to do that:\n",
    "\n",
    "```bash\n",
    "mc --autocompletion\n",
    "```\n",
    "\n",
    "You will need to restart your shell (or log in again) in order for autocompletion to take effect."
   ]
  },
  {
   "cell_type": "code",
   "execution_count": null,
   "id": "27faffa2-2dd7-4e41-a8e5-39cfc2bdfcde",
   "metadata": {},
   "outputs": [],
   "source": []
  }
 ],
 "metadata": {
  "kernelspec": {
   "display_name": "Python 3 (ipykernel)",
   "language": "python",
   "name": "python3"
  },
  "language_info": {
   "codemirror_mode": {
    "name": "ipython",
    "version": 3
   },
   "file_extension": ".py",
   "mimetype": "text/x-python",
   "name": "python",
   "nbconvert_exporter": "python",
   "pygments_lexer": "ipython3",
   "version": "3.9.12"
  }
 },
 "nbformat": 4,
 "nbformat_minor": 5
}
